{
 "cells": [
  {
   "cell_type": "code",
   "execution_count": 25,
   "metadata": {},
   "outputs": [
    {
     "data": {
      "text/plain": [
       "'CAM_simple_script.csv'"
      ]
     },
     "execution_count": 25,
     "metadata": {},
     "output_type": "execute_result"
    }
   ],
   "source": [
    "(csvs[0])"
   ]
  },
  {
   "cell_type": "code",
   "execution_count": 30,
   "metadata": {},
   "outputs": [
    {
     "name": "stderr",
     "output_type": "stream",
     "text": [
      "/opt/conda/lib/python3.6/site-packages/ipykernel/__main__.py:11: FutureWarning: from_csv is deprecated. Please use read_csv(...) instead. Note that some of the default arguments are different, so please refer to the documentation for from_csv when changing your function calls\n"
     ]
    }
   ],
   "source": [
    "import pandas as pd\n",
    "csvs = ['CAM_simple_script.csv','CAM_simple_script.csv']\n",
    "\n",
    "\n",
    "def time_str_to_minutes(time):\n",
    "    h, m, s = time.split(':')\n",
    "    minutes = 60 * int(h) + int(m)\n",
    "    return minutes\n",
    "\n",
    "def load_csv(csv):\n",
    "    df = pd.DataFrame.from_csv(csv, header=0, sep=';')\n",
    "\n",
    "    df.index = [time_str_to_minutes(i) for i in df.index]\n",
    "    df.index = pd.TimedeltaIndex(df.index, unit='m')\n",
    "    df = df.drop([df.columns[0]], axis=1)\n",
    "    return df\n",
    "\n",
    "def combine_all_csvs(csvs):\n",
    "    dfs = [load_csv(csv) for csv in csvs]\n",
    "    return pd.concat(dfs)\n",
    "        \n",
    "df = combine_all_csvs(csvs)\n",
    "df.sort_index()\n",
    "df.to_csv('processed2.csv')"
   ]
  }
 ],
 "metadata": {
  "kernelspec": {
   "display_name": "Python 3",
   "language": "python",
   "name": "python3"
  },
  "language_info": {
   "codemirror_mode": {
    "name": "ipython",
    "version": 3
   },
   "file_extension": ".py",
   "mimetype": "text/x-python",
   "name": "python",
   "nbconvert_exporter": "python",
   "pygments_lexer": "ipython3",
   "version": "3.6.6"
  }
 },
 "nbformat": 4,
 "nbformat_minor": 2
}
