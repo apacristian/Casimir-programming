{
 "cells": [
  {
   "cell_type": "code",
   "execution_count": 3,
   "metadata": {},
   "outputs": [
    {
     "ename": "SyntaxError",
     "evalue": "invalid syntax (<ipython-input-3-df954a943c9e>, line 2)",
     "output_type": "error",
     "traceback": [
      "\u001b[0;36m  File \u001b[0;32m\"<ipython-input-3-df954a943c9e>\"\u001b[0;36m, line \u001b[0;32m2\u001b[0m\n\u001b[0;31m    csvs = [CAM_simple_script.csv', 'CAM_simple_script.csv', 'CAM_simple_script.csv']\u001b[0m\n\u001b[0m                                    ^\u001b[0m\n\u001b[0;31mSyntaxError\u001b[0m\u001b[0;31m:\u001b[0m invalid syntax\n"
     ]
    }
   ],
   "source": [
    "import pandas as pd\n",
    "csvs = [CAM_simple_script.csv', 'CAM_simple_script.csv', 'CAM_simple_script.csv']\n",
    "\n",
    "\n",
    "def time_str_to_minutes(time):\n",
    "    h, m, s = time.split(':')\n",
    "    minutes = 60 * int(h) + int(m)\n",
    "    return minutes\n",
    "\n",
    "def load_csv(csv):\n",
    "    df = pd.DataFrame.from_csv(csv, header=0, sep=';')\n",
    "\n",
    "    df.index = [time_str_to_minutes(i) for i in df.index]\n",
    "    df.index = pd.TimedeltaIndex(df.index, unit='m')\n",
    "    df = df.drop([df.columns[0]], axis=1)\n",
    "    return df\n",
    "\n",
    "def combine_all_csvs(csvs):\n",
    "    dfs = [load_csv(csv) for csv in csvs]\n",
    "    return pd.concat(dfs)\n",
    "        \n",
    "df = combine_all_csvs(csvs)\n",
    "df.sort_index()\n",
    "        \n",
    "df.to_csv('processed.csv')"
   ]
  }
 ],
 "metadata": {
  "kernelspec": {
   "display_name": "Python 3",
   "language": "python",
   "name": "python3"
  },
  "language_info": {
   "codemirror_mode": {
    "name": "ipython",
    "version": 3
   },
   "file_extension": ".py",
   "mimetype": "text/x-python",
   "name": "python",
   "nbconvert_exporter": "python",
   "pygments_lexer": "ipython3",
   "version": "3.6.6"
  }
 },
 "nbformat": 4,
 "nbformat_minor": 2
}
